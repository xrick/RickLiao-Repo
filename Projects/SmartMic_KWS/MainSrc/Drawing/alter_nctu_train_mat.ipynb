{
 "cells": [
  {
   "cell_type": "code",
   "execution_count": 3,
   "metadata": {},
   "outputs": [],
   "source": [
    "import numpy as np\n",
    "import pandas as ps\n",
    "import os\n",
    "import sys \n",
    "import scipy.io as spio"
   ]
  },
  {
   "cell_type": "code",
   "execution_count": 4,
   "metadata": {},
   "outputs": [],
   "source": [
    "# !pip install pandas"
   ]
  },
  {
   "cell_type": "code",
   "execution_count": 9,
   "metadata": {},
   "outputs": [],
   "source": [
    "def read_mat_and_display(matfile, key):\n",
    "    content_ary = spio.loadmat(matfile)[key]\n",
    "    print(content_ary.shape)\n",
    "    print(content_ary[0])\n",
    "    "
   ]
  },
  {
   "cell_type": "code",
   "execution_count": 10,
   "metadata": {},
   "outputs": [
    {
     "name": "stdout",
     "output_type": "stream",
     "text": [
      "(361057, 40)\n",
      "[nan nan nan nan nan nan nan nan nan nan nan nan nan nan nan nan nan nan\n",
      " nan nan nan nan nan nan nan nan nan nan nan nan nan nan nan nan nan nan\n",
      " nan nan nan nan]\n",
      "(186538, 40)\n",
      "[0.26684122 0.70283141 0.88426972 0.57756726 0.65354813 0.80149055\n",
      " 0.55106483 0.57739601 0.03550994 0.         0.31824116 0.67726491\n",
      " 0.99997721 0.84944166 0.79285858 0.893123   0.74674153 0.79536391\n",
      " 0.27021261 0.16265064 0.57845231 0.87609251 0.92719958 0.95674702\n",
      " 0.89669    0.97619219 0.74780953 0.83584831 0.27174674 0.23187612\n",
      " 0.33880613 0.62017667 0.9607725  0.82836611 0.76618266 0.94790031\n",
      " 0.70728789 0.71809787 0.16920831 0.16905722]\n"
     ]
    }
   ],
   "source": [
    "nctu_mat = \"../../NCTU_TrainingData/trainingData20200803_red_icfb_009.mat\"\n",
    "old_nctu_mat = \"../../NCTU_TrainingData/train_1106a_sharp_12.mat\"\n",
    "read_mat_and_display(nctu_mat,\"x_data\")\n",
    "read_mat_and_display(old_nctu_mat,\"x_data\")"
   ]
  },
  {
   "cell_type": "code",
   "execution_count": null,
   "metadata": {},
   "outputs": [],
   "source": []
  }
 ],
 "metadata": {
  "kernelspec": {
   "display_name": "Python 3",
   "language": "python",
   "name": "python3"
  },
  "language_info": {
   "codemirror_mode": {
    "name": "ipython",
    "version": 3
   },
   "file_extension": ".py",
   "mimetype": "text/x-python",
   "name": "python",
   "nbconvert_exporter": "python",
   "pygments_lexer": "ipython3",
   "version": "3.7.4"
  }
 },
 "nbformat": 4,
 "nbformat_minor": 4
}
